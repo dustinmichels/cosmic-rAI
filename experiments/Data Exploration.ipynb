{
 "cells": [
  {
   "cell_type": "markdown",
   "metadata": {},
   "source": [
    "# Setup"
   ]
  },
  {
   "cell_type": "code",
   "execution_count": 1,
   "metadata": {
    "collapsed": true
   },
   "outputs": [],
   "source": [
    "import numpy as np"
   ]
  },
  {
   "cell_type": "markdown",
   "metadata": {},
   "source": [
    "Need to use `.item()` as per https://stackoverflow.com/questions/24565916/why-is-numpy-shape-empty (and also Frank's message)\n",
    "\n",
    "Also note that `mat1` contains only protons, and `mat2` contains only iron nuclei."
   ]
  },
  {
   "cell_type": "code",
   "execution_count": 18,
   "metadata": {
    "collapsed": true
   },
   "outputs": [],
   "source": [
    "mat1 = np.load('../data/sim_12360_00.npy').item()\n",
    "mat2 = np.load('../data/sim_12362_00.npy').item()"
   ]
  },
  {
   "cell_type": "markdown",
   "metadata": {},
   "source": [
    "# Exploration"
   ]
  },
  {
   "cell_type": "code",
   "execution_count": 14,
   "metadata": {},
   "outputs": [
    {
     "data": {
      "text/plain": [
       "dict_keys(['Charges', 'Energy', 'File_info', 'Gain', 'Position', 'Fit_status', 'Composition'])"
      ]
     },
     "execution_count": 14,
     "metadata": {},
     "output_type": "execute_result"
    }
   ],
   "source": [
    "mat1.keys()"
   ]
  },
  {
   "cell_type": "markdown",
   "metadata": {},
   "source": [
    "Each index in each array corresponds to one cosmic ray.\n",
    "* Charges: dictionaries, where each dictionary has about (but not exactly!) 6-8 values. Each key is a sensor and each value is the value that sensor gathered. Presumably the sensors that did not recieve significant signal are not included.\n",
    "* Energy: one value per event. Unclear what that value is.\n",
    "* File_info: some information about the file that the event was drawn from \n",
    "* Gain: a list with one item-- a dictionary from sensor to whether it is a high-gain or low-gain sensor. \n",
    "* Position: the position of each sensor. Consists of an x-position array and a y-position array, but it is unclear what order they are in. \n",
    "* Fit_status: mostly `'OK'` with some `'InsufficientHits'`. Unclear where that comes into play.\n",
    "* Composition: a string representing the composition of each ray."
   ]
  },
  {
   "cell_type": "code",
   "execution_count": 57,
   "metadata": {},
   "outputs": [
    {
     "data": {
      "text/plain": [
       "1"
      ]
     },
     "execution_count": 57,
     "metadata": {},
     "output_type": "execute_result"
    }
   ],
   "source": [
    "len(mat1['Gain'])"
   ]
  },
  {
   "cell_type": "code",
   "execution_count": 33,
   "metadata": {},
   "outputs": [
    {
     "data": {
      "text/plain": [
       "16531"
      ]
     },
     "execution_count": 33,
     "metadata": {},
     "output_type": "execute_result"
    }
   ],
   "source": [
    "len(mat1['File_info'])"
   ]
  },
  {
   "cell_type": "code",
   "execution_count": 41,
   "metadata": {},
   "outputs": [
    {
     "data": {
      "text/plain": [
       "[-497.8949890136719,\n",
       " -497.8949890136719,\n",
       " -496.07000732421875,\n",
       " -496.07000732421875,\n",
       " -477.76499938964844,\n",
       " -477.76499938964844,\n",
       " -476.5749969482422,\n",
       " -476.5749969482422,\n",
       " -464.49000549316406,\n",
       " -464.49000549316406,\n",
       " -458.9750061035156,\n",
       " -458.9750061035156,\n",
       " -438.7050018310547,\n",
       " -438.7050018310547,\n",
       " -436.864990234375,\n",
       " -436.864990234375,\n",
       " -432.4100036621094,\n",
       " -432.4100036621094,\n",
       " -424.68499755859375,\n",
       " -424.68499755859375,\n",
       " -400.4750061035156,\n",
       " -400.4750061035156,\n",
       " -399.0050048828125,\n",
       " -399.0050048828125,\n",
       " -398.3800048828125,\n",
       " -398.3800048828125,\n",
       " -398.1300048828125,\n",
       " -398.1300048828125,\n",
       " -389.260009765625,\n",
       " -389.260009765625,\n",
       " -382.94500732421875,\n",
       " -382.94500732421875,\n",
       " -362.44000244140625,\n",
       " -362.44000244140625,\n",
       " -359.7300109863281,\n",
       " -359.7300109863281,\n",
       " -353.385009765625,\n",
       " -353.385009765625,\n",
       " -343.8999938964844,\n",
       " -343.8999938964844,\n",
       " -343.47999572753906,\n",
       " -343.47999572753906,\n",
       " -342.4700012207031,\n",
       " -342.4700012207031,\n",
       " -339.7449951171875,\n",
       " -339.7449951171875,\n",
       " -335.68499755859375,\n",
       " -335.68499755859375,\n",
       " -314.8000030517578,\n",
       " -314.8000030517578,\n",
       " -305.0,\n",
       " -305.0,\n",
       " -301.50999450683594,\n",
       " -301.50999450683594,\n",
       " -300.4600067138672,\n",
       " -300.4600067138672,\n",
       " -290.32000732421875,\n",
       " -290.32000732421875,\n",
       " -283.77000427246094,\n",
       " -283.77000427246094,\n",
       " -268.1199951171875,\n",
       " -268.1199951171875,\n",
       " -263.8399963378906,\n",
       " -263.8399963378906,\n",
       " -246.7699966430664,\n",
       " -246.7699966430664,\n",
       " -246.06999969482422,\n",
       " -246.06999969482422,\n",
       " -243.04500579833984,\n",
       " -243.04500579833984,\n",
       " -238.43499755859375,\n",
       " -238.43499755859375,\n",
       " -228.47000122070312,\n",
       " -228.47000122070312,\n",
       " -227.1699981689453,\n",
       " -227.1699981689453,\n",
       " -223.73500061035156,\n",
       " -223.73500061035156,\n",
       " -220.85999298095703,\n",
       " -220.85999298095703,\n",
       " -212.6750030517578,\n",
       " -212.6750030517578,\n",
       " -207.02499389648438,\n",
       " -207.02499389648438,\n",
       " -194.84000396728516,\n",
       " -194.84000396728516,\n",
       " -188.66000366210938,\n",
       " -188.66000366210938,\n",
       " -186.24500274658203,\n",
       " -186.24500274658203,\n",
       " -185.0999984741211,\n",
       " -185.0999984741211,\n",
       " -184.4800033569336,\n",
       " -184.4800033569336,\n",
       " -175.76000213623047,\n",
       " -175.76000213623047,\n",
       " -164.68500518798828,\n",
       " -164.68500518798828,\n",
       " -155.80500030517578,\n",
       " -155.80500030517578,\n",
       " -149.5,\n",
       " -149.5,\n",
       " -141.43499755859375,\n",
       " -141.43499755859375,\n",
       " -135.9149932861328,\n",
       " -135.9149932861328,\n",
       " -129.35499572753906,\n",
       " -129.35499572753906,\n",
       " -115.68500137329102,\n",
       " -115.68500137329102,\n",
       " -110.06000137329102,\n",
       " -110.06000137329102,\n",
       " -108.70999908447266,\n",
       " -108.70999908447266,\n",
       " -106.19500350952148,\n",
       " -106.19500350952148,\n",
       " -95.84000015258789,\n",
       " -95.84000015258789,\n",
       " -94.63000106811523,\n",
       " -94.63000106811523,\n",
       " -89.84000015258789,\n",
       " -89.84000015258789,\n",
       " -88.6150016784668,\n",
       " -88.6150016784668,\n",
       " -88.37999725341797,\n",
       " -88.37999725341797,\n",
       " -87.69499969482422,\n",
       " -87.69499969482422,\n",
       " -87.37000274658203,\n",
       " -87.37000274658203,\n",
       " -78.4900016784668,\n",
       " -78.4900016784668,\n",
       " -76.07500076293945,\n",
       " -76.07500076293945,\n",
       " -68.21500015258789,\n",
       " -68.21500015258789,\n",
       " -67.34500122070312,\n",
       " -67.34500122070312,\n",
       " -58.75,\n",
       " -58.75,\n",
       " -57.36000061035156,\n",
       " -57.36000061035156,\n",
       " -52.80500030517578,\n",
       " -52.80500030517578,\n",
       " -46.0,\n",
       " -46.0,\n",
       " -42.47999954223633,\n",
       " -42.47999954223633,\n",
       " -31.0649995803833,\n",
       " -31.0649995803833,\n",
       " -30.985000610351562,\n",
       " -30.985000610351562,\n",
       " -29.475000381469727,\n",
       " -29.475000381469727,\n",
       " -22.655000686645508,\n",
       " -22.655000686645508,\n",
       " -12.414999961853027,\n",
       " -12.414999961853027,\n",
       " -9.755000114440918,\n",
       " -9.755000114440918,\n",
       " -4.5849997997283936,\n",
       " -4.5849997997283936,\n",
       " -3.805000066757202,\n",
       " -3.805000066757202,\n",
       " -0.8450000286102295,\n",
       " -0.8450000286102295,\n",
       " 3.940000057220459,\n",
       " 9.704999923706055,\n",
       " 9.704999923706055,\n",
       " 18.315000534057617,\n",
       " 18.315000534057617,\n",
       " 20.969999313354492,\n",
       " 20.969999313354492,\n",
       " 25.59000015258789,\n",
       " 25.59000015258789,\n",
       " 29.114999771118164,\n",
       " 29.114999771118164,\n",
       " 29.4350004196167,\n",
       " 29.4350004196167,\n",
       " 37.6150016784668,\n",
       " 37.6150016784668,\n",
       " 38.26499938964844,\n",
       " 38.26499938964844,\n",
       " 38.61000061035156,\n",
       " 38.61000061035156,\n",
       " 39.84000015258789,\n",
       " 39.84000015258789,\n",
       " 40.46500015258789,\n",
       " 40.46500015258789,\n",
       " 46.255001068115234,\n",
       " 46.255001068115234,\n",
       " 66.82499694824219,\n",
       " 66.82499694824219,\n",
       " 75.39500045776367,\n",
       " 75.39500045776367,\n",
       " 91.2249984741211,\n",
       " 91.2249984741211,\n",
       " 101.56500244140625,\n",
       " 101.56500244140625,\n",
       " 111.43000030517578,\n",
       " 111.43000030517578,\n",
       " 114.55500030517578,\n",
       " 114.55500030517578,\n",
       " 120.63999938964844,\n",
       " 120.63999938964844,\n",
       " 124.2249984741211,\n",
       " 124.2249984741211,\n",
       " 127.48500061035156,\n",
       " 127.48500061035156,\n",
       " 129.81499481201172,\n",
       " 129.81499481201172,\n",
       " 136.53500366210938,\n",
       " 136.53500366210938,\n",
       " 136.94000244140625,\n",
       " 136.94000244140625,\n",
       " 138.9499969482422,\n",
       " 138.9499969482422,\n",
       " 140.6050033569336,\n",
       " 140.6050033569336,\n",
       " 142.47000122070312,\n",
       " 142.47000122070312,\n",
       " 147.50999450683594,\n",
       " 147.50999450683594,\n",
       " 151.48500061035156,\n",
       " 151.48500061035156,\n",
       " 153.7249984741211,\n",
       " 153.7249984741211,\n",
       " 155.66500091552734,\n",
       " 155.66500091552734,\n",
       " 156.81999969482422,\n",
       " 156.81999969482422,\n",
       " 174.70999908447266,\n",
       " 174.70999908447266,\n",
       " 177.21500396728516,\n",
       " 177.21500396728516,\n",
       " 194.55999755859375,\n",
       " 194.55999755859375,\n",
       " 200.65499877929688,\n",
       " 200.65499877929688,\n",
       " 215.27999877929688,\n",
       " 215.27999877929688,\n",
       " 220.52499389648438,\n",
       " 220.52499389648438,\n",
       " 222.2899932861328,\n",
       " 222.2899932861328,\n",
       " 224.0,\n",
       " 224.0,\n",
       " 231.43499755859375,\n",
       " 231.43499755859375,\n",
       " 232.7300033569336,\n",
       " 232.7300033569336,\n",
       " 234.9800033569336,\n",
       " 234.9800033569336,\n",
       " 235.4199981689453,\n",
       " 235.4199981689453,\n",
       " 241.20499420166016,\n",
       " 241.20499420166016,\n",
       " 241.56499481201172,\n",
       " 241.56499481201172,\n",
       " 252.5500030517578,\n",
       " 252.5500030517578,\n",
       " 255.73500061035156,\n",
       " 255.73500061035156,\n",
       " 271.0449981689453,\n",
       " 271.0449981689453,\n",
       " 272.45001220703125,\n",
       " 272.45001220703125,\n",
       " 302.9650115966797,\n",
       " 302.9650115966797,\n",
       " 312.2050018310547,\n",
       " 312.2050018310547,\n",
       " 312.2550048828125,\n",
       " 312.2550048828125,\n",
       " 312.5350036621094,\n",
       " 312.5350036621094,\n",
       " 316.94500732421875,\n",
       " 316.94500732421875,\n",
       " 317.40501403808594,\n",
       " 317.40501403808594,\n",
       " 330.5749969482422,\n",
       " 330.5749969482422,\n",
       " 331.15501403808594,\n",
       " 331.15501403808594,\n",
       " 333.4150085449219,\n",
       " 333.4150085449219,\n",
       " 336.4550018310547,\n",
       " 336.4550018310547,\n",
       " 354.4250030517578,\n",
       " 354.4250030517578,\n",
       " 361.5950012207031,\n",
       " 361.5950012207031,\n",
       " 367.55999755859375,\n",
       " 367.55999755859375,\n",
       " 370.239990234375,\n",
       " 370.239990234375,\n",
       " 393.50999450683594,\n",
       " 393.50999450683594,\n",
       " 400.9149932861328,\n",
       " 400.9149932861328,\n",
       " 413.01499938964844,\n",
       " 413.01499938964844,\n",
       " 421.2949981689453,\n",
       " 421.2949981689453,\n",
       " 421.4250030517578,\n",
       " 421.4250030517578,\n",
       " 424.1700134277344,\n",
       " 424.1700134277344,\n",
       " 425.4100036621094,\n",
       " 425.4100036621094,\n",
       " 431.0,\n",
       " 431.0,\n",
       " 453.32000732421875,\n",
       " 453.32000732421875,\n",
       " 461.43499755859375,\n",
       " 461.43499755859375,\n",
       " 465.1949920654297,\n",
       " 465.1949920654297,\n",
       " 468.72499084472656,\n",
       " 468.72499084472656,\n",
       " 494.6199951171875,\n",
       " 494.6199951171875,\n",
       " 503.5950012207031,\n",
       " 503.5950012207031]"
      ]
     },
     "execution_count": 41,
     "metadata": {},
     "output_type": "execute_result"
    }
   ],
   "source": [
    "sorted(mat1['Position'][1].values())"
   ]
  },
  {
   "cell_type": "markdown",
   "metadata": {},
   "source": [
    "## Questions"
   ]
  },
  {
   "cell_type": "markdown",
   "metadata": {},
   "source": [
    "* Do the x/y positions correlate to some real-world data? Is it possible to, for example, normalize to all positive?\n",
    "* What does `mat1['File_info']` contain? My instinct is some information about the original simulation files that this was drawn from but perhaps not.\n",
    "* Is it the case that sensors that did not see any signal are not included in `'Charges'`?\n",
    "* What is stored under `Energy`?\n",
    "* Is the `position` array `[x_dict, y_dict]` or `[y_dict, x_dict]`?\n",
    "* Do we have access to the actual/calculated initial conditions information (angle/center) or is that something we need to calculate? If the latter, is there a script somewhere?"
   ]
  },
  {
   "cell_type": "markdown",
   "metadata": {},
   "source": [
    "# Build a training/test set"
   ]
  },
  {
   "cell_type": "markdown",
   "metadata": {},
   "source": [
    "Find all the sensors that are high/low gain"
   ]
  },
  {
   "cell_type": "code",
   "execution_count": 62,
   "metadata": {
    "collapsed": true
   },
   "outputs": [],
   "source": [
    "hgain = list(filter(lambda x: mat1['Gain'][0][x] == 'High', mat1['Position'][0].keys()))\n",
    "lgain = list(filter(lambda x: mat1['Gain'][0][x] == 'Low', mat1['Position'][0].keys()))"
   ]
  },
  {
   "cell_type": "markdown",
   "metadata": {},
   "source": [
    "Construct a dictionary that goes from name -> column index in the matrix we're about to build"
   ]
  },
  {
   "cell_type": "code",
   "execution_count": 68,
   "metadata": {
    "collapsed": true
   },
   "outputs": [],
   "source": [
    "#build a name->index dict\n",
    "def get_index_dict(sensors):\n",
    "    name_index_dict = {}\n",
    "    for i in range(len(hgain)):\n",
    "        name_index_dict[hgain[i]] = i\n",
    "    return name_index_dict"
   ]
  },
  {
   "cell_type": "code",
   "execution_count": 69,
   "metadata": {
    "collapsed": true
   },
   "outputs": [],
   "source": [
    "hgain_indices = get_index_dict(hgain)\n",
    "lgain_indices = get_index_dict(lgain)"
   ]
  },
  {
   "cell_type": "markdown",
   "metadata": {},
   "source": [
    "Build the matrix by setting up an empty one and populating it with the values according to the indices we created above. This is pretty slow atm but I'm sure there are ways to make it more efficient. Perhaps we don't need to make it dense in order to pop it into numpy? "
   ]
  },
  {
   "cell_type": "code",
   "execution_count": null,
   "metadata": {},
   "outputs": [],
   "source": [
    "hgain_events = np.zeros((len(mat1['Composition']) + len(mat2['Composition']), len(hgain_indices) + 1))\n",
    "for i in range(len(mat1['Charges'])):\n",
    "    event = mat1['Charges'][i]\n",
    "    for sensor in mat1['Charges'][i].keys():\n",
    "        try:\n",
    "            hgain_events[i, hgain_indices[sensor]] = event[sensor]\n",
    "            # print('updated x: {} y: {} to be {}'.format(i,hgain_indices[sensor],event[sensor]))\n",
    "        except KeyError:\n",
    "            continue\n",
    "    hgain_events[i, -1] = 1\n",
    "\n",
    "for i in range(len(mat2['Charges'])):\n",
    "    event = mat2['Charges'][i][sensor]\n",
    "    for sensor in mat2['Charges'][i].keys():\n",
    "        try:\n",
    "            hgain_events[len(mat1['Charges']) + i, hgain_indices[sensor]] = event[sensor]\n",
    "        except KeyError:\n",
    "            continue\n",
    "    hgain_events[len(mat1['Charges']) + i, -1] = 0"
   ]
  },
  {
   "cell_type": "code",
   "execution_count": 108,
   "metadata": {},
   "outputs": [
    {
     "data": {
      "text/plain": [
       "{'3561': 0.3185567855834961,\n",
       " '3563': 0.814879298210144,\n",
       " '3761': 0.2992176115512848,\n",
       " '3763': 0.42499926686286926,\n",
       " '4661': 0.9247297048568726,\n",
       " '4663': 0.544894814491272,\n",
       " '8161': 1.5435057878494263,\n",
       " '8163': 2.1687159538269043}"
      ]
     },
     "execution_count": 108,
     "metadata": {},
     "output_type": "execute_result"
    }
   ],
   "source": [
    "mat1['Charges'][0]"
   ]
  },
  {
   "cell_type": "code",
   "execution_count": 112,
   "metadata": {},
   "outputs": [
    {
     "name": "stdout",
     "output_type": "stream",
     "text": [
      "8163\n",
      "2.16871595383 2.1687159538269043\n",
      "3563\n",
      "0.81487929821 0.814879298210144\n",
      "8161\n",
      "1.54350578785 1.5435057878494263\n",
      "3763\n",
      "0.424999266863 0.42499926686286926\n",
      "3761\n",
      "0.299217611551 0.2992176115512848\n",
      "4661\n",
      "0.924729704857 0.9247297048568726\n",
      "4663\n",
      "0.544894814491 0.544894814491272\n",
      "3561\n",
      "0.318556785583 0.3185567855834961\n"
     ]
    }
   ],
   "source": [
    "for key in mat1['Charges'][0].keys():\n",
    "    print(key)\n",
    "    print(str(hgain_events[0,hgain_indices[key]]) + \" \" + str(mat1['Charges'][0][key]))"
   ]
  },
  {
   "cell_type": "code",
   "execution_count": 97,
   "metadata": {},
   "outputs": [
    {
     "data": {
      "text/plain": [
       "0.0"
      ]
     },
     "execution_count": 97,
     "metadata": {},
     "output_type": "execute_result"
    }
   ],
   "source": [
    "hgain_events[0,140]"
   ]
  },
  {
   "cell_type": "code",
   "execution_count": 114,
   "metadata": {},
   "outputs": [
    {
     "data": {
      "text/plain": [
       "array([ 0.        ,  0.        ,  0.        ,  0.        ,  0.        ,\n",
       "        0.        ,  0.        ,  0.        ,  0.        ,  0.        ,\n",
       "        0.        ,  0.        ,  0.        ,  0.        ,  0.        ,\n",
       "        0.        ,  0.29921761,  0.42499927,  0.        ,  0.        ,\n",
       "        0.        ,  0.        ,  0.        ,  0.31855679,  0.8148793 ,\n",
       "        0.        ,  0.        ,  0.        ,  0.        ,  0.        ,\n",
       "        0.        ,  0.        ,  0.        ,  0.        ,  0.        ,\n",
       "        0.        ,  0.        ,  1.54350579,  0.        ,  0.        ,\n",
       "        0.        ,  0.        ,  0.        ,  0.        ,  0.        ,\n",
       "        0.        ,  0.        ,  0.        ,  0.        ,  0.        ,\n",
       "        0.        ,  0.        ,  0.        ,  0.        ,  0.        ,\n",
       "        0.        ,  0.        ,  0.        ,  0.        ,  0.        ,\n",
       "        0.        ,  0.        ,  0.        ,  0.        ,  0.        ,\n",
       "        0.        ,  0.        ,  0.        ,  0.        ,  0.        ,\n",
       "        0.        ,  0.        ,  0.        ,  0.        ,  0.        ,\n",
       "        0.        ,  0.        ,  0.        ,  0.        ,  0.        ,\n",
       "        0.        ,  0.        ,  0.        ,  0.        ,  0.        ,\n",
       "        0.        ,  0.        ,  0.        ,  0.        ,  0.        ,\n",
       "        0.        ,  0.        ,  0.        ,  0.        ,  0.        ,\n",
       "        0.        ,  0.        ,  0.        ,  0.        ,  0.        ,\n",
       "        0.        ,  0.        ,  0.        ,  0.        ,  0.        ,\n",
       "        0.        ,  0.        ,  0.        ,  0.        ,  0.        ,\n",
       "        0.        ,  0.        ,  0.        ,  0.        ,  0.        ,\n",
       "        0.        ,  0.        ,  0.        ,  0.        ,  0.        ,\n",
       "        0.        ,  0.        ,  0.        ,  0.        ,  0.        ,\n",
       "        0.        ,  0.        ,  0.        ,  0.        ,  0.9247297 ,\n",
       "        0.        ,  0.        ,  0.        ,  0.        ,  0.        ,\n",
       "        0.        ,  0.        ,  0.        ,  0.        ,  0.        ,\n",
       "        2.16871595,  0.        ,  0.        ,  0.        ,  0.        ,\n",
       "        0.        ,  0.        ,  0.        ,  0.        ,  0.        ,\n",
       "        0.        ,  0.        ,  0.        ,  0.        ,  0.        ,\n",
       "        0.54489481,  0.        ,  0.        ,  0.        ,  0.        ,\n",
       "        0.        ,  0.        ,  1.        ])"
      ]
     },
     "execution_count": 114,
     "metadata": {},
     "output_type": "execute_result"
    }
   ],
   "source": [
    "hgain_events[16529, :]"
   ]
  }
 ],
 "metadata": {
  "kernelspec": {
   "display_name": "Python 3",
   "language": "python",
   "name": "python3"
  },
  "language_info": {
   "codemirror_mode": {
    "name": "ipython",
    "version": 3
   },
   "file_extension": ".py",
   "mimetype": "text/x-python",
   "name": "python",
   "nbconvert_exporter": "python",
   "pygments_lexer": "ipython3",
   "version": "3.6.2"
  }
 },
 "nbformat": 4,
 "nbformat_minor": 2
}
